{
 "cells": [
  {
   "attachments": {},
   "cell_type": "markdown",
   "id": "abd49bae",
   "metadata": {},
   "source": [
    "data= pd.read_csv(\"\") charger le dataset "
   ]
  },
  {
   "cell_type": "code",
   "execution_count": 3,
   "id": "c5b14d80-01ac-4447-9029-1388ecb113b6",
   "metadata": {},
   "outputs": [],
   "source": [
    "# recuper 10% du dataset pour alléger la mémoire  \n",
    "data_alleger=data.sample(frac=0.1) "
   ]
  },
  {
   "cell_type": "code",
   "execution_count": null,
   "id": "a40a69e0-21c4-4778-9f25-6d13f4ac32b9",
   "metadata": {},
   "outputs": [],
   "source": [
    "data_alleger.describe()"
   ]
  },
  {
   "attachments": {},
   "cell_type": "markdown",
   "id": "e652e7a2",
   "metadata": {},
   "source": [
    "traiter les valeurs manquantes à travers la boucle for qui va parcourir tout le dataset"
   ]
  },
  {
   "cell_type": "code",
   "execution_count": null,
   "id": "c873dde2",
   "metadata": {},
   "outputs": [],
   "source": [
    "for i in data_alleger.columns:\n",
    "    print(i,'||',data_alleger[i].dtypes,'||', data_alleger[i].isna().sum(),'||','{:.2%}'.format((data_alleger.isna().sum()/len(data_alleger))[i])) "
   ]
  },
  {
   "attachments": {},
   "cell_type": "markdown",
   "id": "00afb83e",
   "metadata": {},
   "source": [
    " créer un dataframe vide dans lequel nous allons ajouter les colonnes qui nous intéressent, telles que Nom du produit, Type de données, Nombre de valeurs manquantes, Valeurs manquantes"
   ]
  },
  {
   "cell_type": "code",
   "execution_count": null,
   "id": "6b1cabe2",
   "metadata": {},
   "outputs": [],
   "source": [
    "missing_data = pd.DataFrame()\n",
    "missing_data['Column variable'] = data_alleger.columns\n",
    "missing_data['Data type'] = list(data_alleger.dtypes)\n",
    "missing_data['Missing values count'] = list(data_alleger.isna().sum())\n",
    "missing_data['% Missing values'] = list((data_alleger.isna().sum()/len(data_alleger))) \n",
    "print(missing_data)"
   ]
  },
  {
   "attachments": {},
   "cell_type": "markdown",
   "id": "156ca979",
   "metadata": {},
   "source": [
    "Nous visualisations les valeurs manquantes "
   ]
  },
  {
   "cell_type": "code",
   "execution_count": null,
   "id": "b5ebd282",
   "metadata": {},
   "outputs": [],
   "source": [
    "to_plot = missing_data.sort_values(by=['% Missing values'])\n",
    "fig, ax = plt.subplots(figsize=(18, 9))\n",
    "ax.set_facecolor(\"#2E2E2E\")\n",
    "plt.title('Representation of the % Missing values per column', fontsize=20, y=1.03)\n",
    "plt.xlabel('Columns Name', fontsize=14)\n",
    "plt.ylabel('% Missing values', fontsize=14)\n",
    "plt.grid(True, color=\"#93a1a1\", alpha=0.05)\n",
    "plt.xticks(rotation=90) \n",
    "plt.plot(to_plot['Column variable'],to_plot['% Missing values'],color=\"#E8FF41\");"
   ]
  },
  {
   "attachments": {},
   "cell_type": "markdown",
   "id": "ff398cf8",
   "metadata": {},
   "source": [
    "suppression des valeurs manquantes "
   ]
  },
  {
   "cell_type": "code",
   "execution_count": null,
   "id": "ee6dd0bc",
   "metadata": {},
   "outputs": [],
   "source": [
    "data = data_alleger.dropna(axis=1, thresh= len(data_alleger)*0.75) \n",
    "for i in data.columns:\n",
    "    print(i,'||',data[i].dtypes,'||', data[i].isna().sum(),'||','{:.2%}'.format((data_alleger.isna().sum()/len(data_alleger))[i])) \n",
    "    "
   ]
  },
  {
   "attachments": {},
   "cell_type": "markdown",
   "id": "30814265",
   "metadata": {},
   "source": [
    "Nous créons une nouvelle trame de données appelée missing_data2 qui contient les colonnes avec 40 % ou moins de valeurs manquantes dans leurs colonnes."
   ]
  },
  {
   "cell_type": "code",
   "execution_count": null,
   "id": "3acff2ab",
   "metadata": {},
   "outputs": [],
   "source": [
    "missing_data2 = pd.DataFrame()\n",
    "missing_data2['Column variable'] = data.columns\n",
    "missing_data2['Data type'] = list(data.dtypes)\n",
    "missing_data2['Missing values count'] = list(data.isna().sum())\n",
    "missing_data2['% Missing values'] = list(data.isna().sum()/len(data)) \n",
    "print(missing_data2)"
   ]
  },
  {
   "attachments": {},
   "cell_type": "markdown",
   "id": "803984dd",
   "metadata": {},
   "source": [
    "Rechercher des lignes entières avec des valeurs NaN"
   ]
  },
  {
   "cell_type": "code",
   "execution_count": null,
   "id": "ad753271",
   "metadata": {},
   "outputs": [],
   "source": [
    "miss_rows=data[data.isnull().all(axis=1)]\n",
    "\n",
    "print('le nombre est :', len(miss_rows))"
   ]
  },
  {
   "cell_type": "code",
   "execution_count": null,
   "id": "612279c8",
   "metadata": {},
   "outputs": [],
   "source": [
    "drop_data = data.dropna(axis=0, how='any', subset=['product_name'], inplace=False)\n",
    "\n",
    "missing_data3 = pd.DataFrame()\n",
    "missing_data3['Column variable'] = drop_data.columns\n",
    "missing_data3['Data type'] = list(drop_data.dtypes)\n",
    "missing_data3['Missing values count'] = list(drop_data.isna().sum())\n",
    "missing_data3['% Missing values'] = list(drop_data.isna().sum()/(len(drop_data))) \n",
    "print(missing_data3)"
   ]
  },
  {
   "cell_type": "code",
   "execution_count": null,
   "id": "e5dcf39e",
   "metadata": {},
   "outputs": [],
   "source": [
    "mask = drop_data[drop_data.loc[:,['energy-kcal_100g','energy_100g','fat_100g','saturated-fat_100g','carbohydrates_100g','sugars_100g','proteins_100g']].isnull().sum(axis=1) == 9]"
   ]
  },
  {
   "cell_type": "code",
   "execution_count": null,
   "id": "f37d508f",
   "metadata": {},
   "outputs": [],
   "source": [
    "drop_data_nan = drop_data.append(mask).drop_duplicates(keep=False)\n",
    "drop_data_nan.info()"
   ]
  },
  {
   "attachments": {},
   "cell_type": "markdown",
   "id": "4001765c",
   "metadata": {},
   "source": [
    "sauvegarder le dataset netoyer : drop_data_nan.to_csv('data_netoyer.csv',sep = '\\t',index = True)"
   ]
  }
 ],
 "metadata": {
  "kernelspec": {
   "display_name": "Python 3 (ipykernel)",
   "language": "python",
   "name": "python3"
  },
  "language_info": {
   "codemirror_mode": {
    "name": "ipython",
    "version": 3
   },
   "file_extension": ".py",
   "mimetype": "text/x-python",
   "name": "python",
   "nbconvert_exporter": "python",
   "pygments_lexer": "ipython3",
   "version": "3.9.13"
  }
 },
 "nbformat": 4,
 "nbformat_minor": 5
}

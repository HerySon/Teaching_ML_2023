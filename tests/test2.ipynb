{
 "cells": [
  {
   "cell_type": "code",
   "execution_count": 11,
   "id": "0c88913b-6747-49f6-a474-d6bb10351db8",
   "metadata": {},
   "outputs": [],
   "source": [
    "import numpy as np\n",
    "import pandas as pd\n",
    "import matplotlib.pyplot as plt\n",
    "import seaborn as sns "
   ]
  },
  {
   "cell_type": "code",
   "execution_count": 12,
   "id": "16823418-ce90-4c44-ad56-0cbb8e5f5f6a",
   "metadata": {},
   "outputs": [],
   "source": [
    "df= pd.read_csv(\"data_sclaing.csv\", low_memory=False)# charger mes donnée traitée dans la tache 3"
   ]
  },
  {
   "cell_type": "code",
   "execution_count": 13,
   "id": "7c36e58b-de6a-4eda-b1ae-d1fc96912140",
   "metadata": {},
   "outputs": [
    {
     "data": {
      "text/html": [
       "<div>\n",
       "<style scoped>\n",
       "    .dataframe tbody tr th:only-of-type {\n",
       "        vertical-align: middle;\n",
       "    }\n",
       "\n",
       "    .dataframe tbody tr th {\n",
       "        vertical-align: top;\n",
       "    }\n",
       "\n",
       "    .dataframe thead th {\n",
       "        text-align: right;\n",
       "    }\n",
       "</style>\n",
       "<table border=\"1\" class=\"dataframe\">\n",
       "  <thead>\n",
       "    <tr style=\"text-align: right;\">\n",
       "      <th></th>\n",
       "      <th>Unnamed: 0</th>\n",
       "      <th>x1</th>\n",
       "      <th>x2</th>\n",
       "    </tr>\n",
       "  </thead>\n",
       "  <tbody>\n",
       "    <tr>\n",
       "      <th>count</th>\n",
       "      <td>1025.000000</td>\n",
       "      <td>1025.000000</td>\n",
       "      <td>1025.000000</td>\n",
       "    </tr>\n",
       "    <tr>\n",
       "      <th>mean</th>\n",
       "      <td>512.000000</td>\n",
       "      <td>19.510992</td>\n",
       "      <td>30.509924</td>\n",
       "    </tr>\n",
       "    <tr>\n",
       "      <th>std</th>\n",
       "      <td>296.036315</td>\n",
       "      <td>3.645604</td>\n",
       "      <td>3.696113</td>\n",
       "    </tr>\n",
       "    <tr>\n",
       "      <th>min</th>\n",
       "      <td>0.000000</td>\n",
       "      <td>-3.847150</td>\n",
       "      <td>24.433928</td>\n",
       "    </tr>\n",
       "    <tr>\n",
       "      <th>25%</th>\n",
       "      <td>256.000000</td>\n",
       "      <td>18.518495</td>\n",
       "      <td>28.659501</td>\n",
       "    </tr>\n",
       "    <tr>\n",
       "      <th>50%</th>\n",
       "      <td>512.000000</td>\n",
       "      <td>19.837920</td>\n",
       "      <td>30.058752</td>\n",
       "    </tr>\n",
       "    <tr>\n",
       "      <th>75%</th>\n",
       "      <td>768.000000</td>\n",
       "      <td>21.337207</td>\n",
       "      <td>31.475051</td>\n",
       "    </tr>\n",
       "    <tr>\n",
       "      <th>max</th>\n",
       "      <td>1024.000000</td>\n",
       "      <td>26.433766</td>\n",
       "      <td>55.875182</td>\n",
       "    </tr>\n",
       "  </tbody>\n",
       "</table>\n",
       "</div>"
      ],
      "text/plain": [
       "        Unnamed: 0           x1           x2\n",
       "count  1025.000000  1025.000000  1025.000000\n",
       "mean    512.000000    19.510992    30.509924\n",
       "std     296.036315     3.645604     3.696113\n",
       "min       0.000000    -3.847150    24.433928\n",
       "25%     256.000000    18.518495    28.659501\n",
       "50%     512.000000    19.837920    30.058752\n",
       "75%     768.000000    21.337207    31.475051\n",
       "max    1024.000000    26.433766    55.875182"
      ]
     },
     "execution_count": 13,
     "metadata": {},
     "output_type": "execute_result"
    }
   ],
   "source": [
    "df.describe()"
   ]
  },
  {
   "cell_type": "markdown",
   "id": "91b40ef1-5bf7-4e30-8432-787434c6fe87",
   "metadata": {},
   "source": [
    "# definir la fonction pour trouver les outliers "
   ]
  },
  {
   "cell_type": "code",
   "execution_count": 19,
   "id": "ccc6bf6f-3ed1-4e98-ab63-5593d96228f9",
   "metadata": {},
   "outputs": [],
   "source": [
    "def score(df):\n",
    "    global outliers,zscore\n",
    "    outliers = []\n",
    "    zscore = []\n",
    "    threshold = 3\n",
    "    mean = np.mean(df)\n",
    "    std = np.std(df)\n",
    "    for i in df:\n",
    "        z_score= (i - mean)/std \n",
    "        zscore.append(z_score)\n",
    "        if np.abs(z_score) > threshold:\n",
    "            outliers.append(i)\n",
    "    return print(\"Total number of outliers are\",len(outliers))"
   ]
  },
  {
   "cell_type": "code",
   "execution_count": 20,
   "id": "dfeaa904-bdca-42d9-b567-54024eeaaf9d",
   "metadata": {},
   "outputs": [
    {
     "name": "stdout",
     "output_type": "stream",
     "text": [
      "Total number of outliers are 25\n"
     ]
    }
   ],
   "source": [
    "score(df.x1)"
   ]
  },
  {
   "cell_type": "code",
   "execution_count": 22,
   "id": "399a0640-dc5f-452d-9b43-241a8b746e66",
   "metadata": {},
   "outputs": [
    {
     "name": "stderr",
     "output_type": "stream",
     "text": [
      "C:\\Users\\alimo\\anaconda3\\lib\\site-packages\\seaborn\\distributions.py:2619: FutureWarning: `distplot` is a deprecated function and will be removed in a future version. Please adapt your code to use either `displot` (a figure-level function with similar flexibility) or `histplot` (an axes-level function for histograms).\n",
      "  warnings.warn(msg, FutureWarning)\n"
     ]
    },
    {
     "data": {
      "text/plain": [
       "<matplotlib.patches.Polygon at 0x1fd669167c0>"
      ]
     },
     "execution_count": 22,
     "metadata": {},
     "output_type": "execute_result"
    },
    {
     "data": {
      "image/png": "[encoded data removed]",
      "text/plain": [
       "<Figure size 1000x500 with 1 Axes>"
      ]
     },
     "metadata": {},
     "output_type": "display_data"
    }
   ],
   "source": [
    "plt.figure(figsize = (10,5))\n",
    "sns.distplot(zscore)\n",
    "plt.axvspan(xmin = 3 ,xmax= max(zscore),alpha=0.2, color='red')"
   ]
  },
  {
   "cell_type": "markdown",
   "id": "488f5c3c-dcb4-49a9-8e7a-a26749d4ceb1",
   "metadata": {},
   "source": [
    "les outliers   se trouvent dans la zone rouge \n"
   ]
  },
  {
   "cell_type": "markdown",
   "id": "2102fccc-0064-453c-8f37-7a70ac38c016",
   "metadata": {},
   "source": [
    "recuperer dans un nouveau dataset les valeurs inferieures à 3 "
   ]
  },
  {
   "cell_type": "code",
   "execution_count": 27,
   "id": "84da2960-eba3-4ccd-a976-bb91693a5c8b",
   "metadata": {},
   "outputs": [],
   "source": [
    "df1 = df[(df['x1'] < 3) | (df['x1'] > -3)] "
   ]
  },
  {
   "cell_type": "code",
   "execution_count": 29,
   "id": "ae631fb4-25d9-4c0c-8339-1c00c146438b",
   "metadata": {},
   "outputs": [
    {
     "data": {
      "text/html": [
       "<div>\n",
       "<style scoped>\n",
       "    .dataframe tbody tr th:only-of-type {\n",
       "        vertical-align: middle;\n",
       "    }\n",
       "\n",
       "    .dataframe tbody tr th {\n",
       "        vertical-align: top;\n",
       "    }\n",
       "\n",
       "    .dataframe thead th {\n",
       "        text-align: right;\n",
       "    }\n",
       "</style>\n",
       "<table border=\"1\" class=\"dataframe\">\n",
       "  <thead>\n",
       "    <tr style=\"text-align: right;\">\n",
       "      <th></th>\n",
       "      <th>Unnamed: 0</th>\n",
       "      <th>x1</th>\n",
       "      <th>x2</th>\n",
       "    </tr>\n",
       "  </thead>\n",
       "  <tbody>\n",
       "    <tr>\n",
       "      <th>0</th>\n",
       "      <td>0</td>\n",
       "      <td>21.028132</td>\n",
       "      <td>34.690901</td>\n",
       "    </tr>\n",
       "    <tr>\n",
       "      <th>1</th>\n",
       "      <td>1</td>\n",
       "      <td>15.680924</td>\n",
       "      <td>30.303195</td>\n",
       "    </tr>\n",
       "    <tr>\n",
       "      <th>2</th>\n",
       "      <td>2</td>\n",
       "      <td>20.374814</td>\n",
       "      <td>29.821848</td>\n",
       "    </tr>\n",
       "    <tr>\n",
       "      <th>3</th>\n",
       "      <td>3</td>\n",
       "      <td>19.219466</td>\n",
       "      <td>34.363051</td>\n",
       "    </tr>\n",
       "    <tr>\n",
       "      <th>4</th>\n",
       "      <td>4</td>\n",
       "      <td>18.893579</td>\n",
       "      <td>29.421644</td>\n",
       "    </tr>\n",
       "    <tr>\n",
       "      <th>...</th>\n",
       "      <td>...</td>\n",
       "      <td>...</td>\n",
       "      <td>...</td>\n",
       "    </tr>\n",
       "    <tr>\n",
       "      <th>1020</th>\n",
       "      <td>1020</td>\n",
       "      <td>1.814180</td>\n",
       "      <td>50.499760</td>\n",
       "    </tr>\n",
       "    <tr>\n",
       "      <th>1021</th>\n",
       "      <td>1021</td>\n",
       "      <td>1.646904</td>\n",
       "      <td>49.512863</td>\n",
       "    </tr>\n",
       "    <tr>\n",
       "      <th>1022</th>\n",
       "      <td>1022</td>\n",
       "      <td>-1.436186</td>\n",
       "      <td>48.974304</td>\n",
       "    </tr>\n",
       "    <tr>\n",
       "      <th>1023</th>\n",
       "      <td>1023</td>\n",
       "      <td>-3.381932</td>\n",
       "      <td>42.051224</td>\n",
       "    </tr>\n",
       "    <tr>\n",
       "      <th>1024</th>\n",
       "      <td>1024</td>\n",
       "      <td>2.118015</td>\n",
       "      <td>50.554761</td>\n",
       "    </tr>\n",
       "  </tbody>\n",
       "</table>\n",
       "<p>1025 rows × 3 columns</p>\n",
       "</div>"
      ],
      "text/plain": [
       "      Unnamed: 0         x1         x2\n",
       "0              0  21.028132  34.690901\n",
       "1              1  15.680924  30.303195\n",
       "2              2  20.374814  29.821848\n",
       "3              3  19.219466  34.363051\n",
       "4              4  18.893579  29.421644\n",
       "...          ...        ...        ...\n",
       "1020        1020   1.814180  50.499760\n",
       "1021        1021   1.646904  49.512863\n",
       "1022        1022  -1.436186  48.974304\n",
       "1023        1023  -3.381932  42.051224\n",
       "1024        1024   2.118015  50.554761\n",
       "\n",
       "[1025 rows x 3 columns]"
      ]
     },
     "execution_count": 29,
     "metadata": {},
     "output_type": "execute_result"
    }
   ],
   "source": [
    "df1"
   ]
  },
  {
   "cell_type": "code",
   "execution_count": null,
   "id": "6e135a91-aab9-49ed-81b5-7b33ef109a58",
   "metadata": {},
   "outputs": [],
   "source": []
  }
 ],
 "metadata": {
  "kernelspec": {
   "display_name": "Python 3 (ipykernel)",
   "language": "python",
   "name": "python3"
  },
  "language_info": {
   "codemirror_mode": {
    "name": "ipython",
    "version": 3
   },
   "file_extension": ".py",
   "mimetype": "text/x-python",
   "name": "python",
   "nbconvert_exporter": "python",
   "pygments_lexer": "ipython3",
   "version": "3.9.13"
  }
 },
 "nbformat": 4,
 "nbformat_minor": 5
}

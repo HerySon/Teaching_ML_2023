{
 "cells": [
  {
   "cell_type": "code",
   "execution_count": 5,
   "id": "e3510310-f4a6-4a51-8dcc-6a8160faead1",
   "metadata": {},
   "outputs": [
    {
     "name": "stdout",
     "output_type": "stream",
     "text": [
      "age        int8\n",
      "income    int32\n",
      "dtype: object\n",
      "   age  income\n",
      "0   20   25000\n",
      "1   30   35000\n",
      "2   40   45000\n",
      "3   50   55000\n"
     ]
    }
   ],
   "source": [
    "import pandas as pd\n",
    "import numpy as np\n",
    "\n",
    "def filter_columns(df, numeric=True, ordinal=True, nominal=True, max_categories=None, downcast=False):\n",
    "    \"\"\"\n",
    "    -------------------------------------------------------------------------\n",
    "    Filters and selects relevant columns in a dataframe.\n",
    "    ------------------------------------------------------------------------\n",
    "    Parameters:\n",
    "    ------------------------------------------------------------------------\n",
    "    df : The input dataframe to filter columns for.\n",
    "    numeric : bool, optional (default=True)\n",
    "        Whether to include numerical columns in the output.\n",
    "    ordinal : bool, optional (default=True)\n",
    "        Whether to include ordinal categorical columns in the output.\n",
    "    nominal : bool, optional (default=True)\n",
    "        Whether to include nominal categorical columns in the output.\n",
    "    max_categories : int, optional (default=None)\n",
    "        The maximum number of categories a categorical variable can have to be included in the output.\n",
    "        If None, all categorical variables will be included.\n",
    "    downcast : bool, optional (default=False)\n",
    "        Whether to downcast numerical variables to a smaller datatype to save memory.\n",
    "    ---------------------------------------------------------------------------\n",
    "    Returns:\n",
    "    ---------------------------------------------------------------------------\n",
    "        The filtered dataframe with relevant columns selected.\n",
    "    \"\"\"\n",
    "\n",
    "    # Separating numerical, ordinal categorical and nominal categorical columns\n",
    "    numeric_cols = list(df.select_dtypes(include=['number']).columns)\n",
    "    ordinal_cols = []\n",
    "    nominal_cols = []\n",
    "    for col in df.select_dtypes(include=['category']):\n",
    "        if len(df[col].unique()) == 2:\n",
    "            ordinal_cols.append(col)\n",
    "        elif max_categories is None or len(df[col].unique()) <= max_categories:\n",
    "            nominal_cols.append(col)\n",
    "\n",
    "    # Selecting relevant columns based on variable types\n",
    "    relevant_cols = []\n",
    "    if numeric:\n",
    "        relevant_cols += numeric_cols\n",
    "    if ordinal:\n",
    "        relevant_cols += ordinal_cols\n",
    "    if nominal:\n",
    "        relevant_cols += nominal_cols\n",
    "    \n",
    "    # Downcasting numerical columns if specified\n",
    "    if downcast:\n",
    "        for col in numeric_cols:\n",
    "            df[col] = pd.to_numeric(df[col], downcast='signed')\n",
    "\n",
    "    # Returning filtered dataframe\n",
    "    return df[relevant_cols]\n",
    "\n",
    "\n",
    "# Dataframe creation\n",
    "data = {'age': [20, 30, 40, 50],\n",
    "        'gender': ['M', 'F', 'F', 'M'],\n",
    "        'income': [25000, 35000, 45000, 55000],\n",
    "        'education': ['Bachelor', 'Master', 'PhD', 'Master'],\n",
    "        'marital_status': ['Single', 'Married', 'Married', 'Divorced']}\n",
    "\n",
    "df = pd.DataFrame(data)\n",
    "\n",
    "# Filter columns\n",
    "filtered_df = filter_columns(df, nominal=True, ordinal=True, numeric=True, max_categories=3, downcast=True)\n",
    "\n",
    "print(filtered_df.dtypes)\n",
    "print(filtered_df.head())\n",
    "\n"
   ]
  },
  {
   "cell_type": "code",
   "execution_count": null,
   "id": "c00057bc-a741-4467-8efc-615b9336f869",
   "metadata": {},
   "outputs": [],
   "source": []
  }
 ],
 "metadata": {
  "kernelspec": {
   "display_name": "Python 3 (ipykernel)",
   "language": "python",
   "name": "python3"
  },
  "language_info": {
   "codemirror_mode": {
    "name": "ipython",
    "version": 3
   },
   "file_extension": ".py",
   "mimetype": "text/x-python",
   "name": "python",
   "nbconvert_exporter": "python",
   "pygments_lexer": "ipython3",
   "version": "3.9.13"
  }
 },
 "nbformat": 4,
 "nbformat_minor": 5
}

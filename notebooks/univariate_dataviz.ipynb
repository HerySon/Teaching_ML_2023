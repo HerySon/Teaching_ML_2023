{
 "cells": [
  {
   "cell_type": "code",
   "execution_count": 13,
   "metadata": {},
   "outputs": [
    {
     "ename": "ModuleNotFoundError",
     "evalue": "No module named 'univariate_dataviz'",
     "output_type": "error",
     "traceback": [
      "\u001b[0;31m---------------------------------------------------------------------------\u001b[0m",
      "\u001b[0;31mModuleNotFoundError\u001b[0m                       Traceback (most recent call last)",
      "\u001b[1;32m/Users/thomasleydet/Documents/MasterCours/M2/MachineLearning/OpenFoodFact/teaching_ml_2023/notebooks/univariate_dataviz.ipynb Cellule 1\u001b[0m in \u001b[0;36m<module>\u001b[0;34m\u001b[0m\n\u001b[1;32m      <a href='vscode-notebook-cell:/Users/thomasleydet/Documents/MasterCours/M2/MachineLearning/OpenFoodFact/teaching_ml_2023/notebooks/univariate_dataviz.ipynb#W0sZmlsZQ%3D%3D?line=1'>2</a>\u001b[0m \u001b[39mimport\u001b[39;00m \u001b[39mnumpy\u001b[39;00m \u001b[39mas\u001b[39;00m \u001b[39mnp\u001b[39;00m\n\u001b[1;32m      <a href='vscode-notebook-cell:/Users/thomasleydet/Documents/MasterCours/M2/MachineLearning/OpenFoodFact/teaching_ml_2023/notebooks/univariate_dataviz.ipynb#W0sZmlsZQ%3D%3D?line=2'>3</a>\u001b[0m \u001b[39mimport\u001b[39;00m \u001b[39mmatplotlib\u001b[39;00m\u001b[39m.\u001b[39;00m\u001b[39mpyplot\u001b[39;00m \u001b[39mas\u001b[39;00m \u001b[39mplt\u001b[39;00m\n\u001b[0;32m----> <a href='vscode-notebook-cell:/Users/thomasleydet/Documents/MasterCours/M2/MachineLearning/OpenFoodFact/teaching_ml_2023/notebooks/univariate_dataviz.ipynb#W0sZmlsZQ%3D%3D?line=3'>4</a>\u001b[0m \u001b[39mfrom\u001b[39;00m \u001b[39munivariate_dataviz\u001b[39;00m \u001b[39mimport\u001b[39;00m wordcloud_feature, density, unique_values, plot_feature\n\u001b[1;32m      <a href='vscode-notebook-cell:/Users/thomasleydet/Documents/MasterCours/M2/MachineLearning/OpenFoodFact/teaching_ml_2023/notebooks/univariate_dataviz.ipynb#W0sZmlsZQ%3D%3D?line=5'>6</a>\u001b[0m \u001b[39m# Chargement des données\u001b[39;00m\n\u001b[1;32m      <a href='vscode-notebook-cell:/Users/thomasleydet/Documents/MasterCours/M2/MachineLearning/OpenFoodFact/teaching_ml_2023/notebooks/univariate_dataviz.ipynb#W0sZmlsZQ%3D%3D?line=6'>7</a>\u001b[0m df \u001b[39m=\u001b[39m pd\u001b[39m.\u001b[39mread_csv(\u001b[39m'\u001b[39m\u001b[39m../data/3go_en.openfoodfacts.org.products.csv\u001b[39m\u001b[39m'\u001b[39m, delimiter\u001b[39m=\u001b[39m\u001b[39m'\u001b[39m\u001b[39m\\t\u001b[39;00m\u001b[39m'\u001b[39m, low_memory\u001b[39m=\u001b[39m\u001b[39mFalse\u001b[39;00m)\n",
      "\u001b[0;31mModuleNotFoundError\u001b[0m: No module named 'univariate_dataviz'"
     ]
    }
   ],
   "source": [
    "import pandas as pd\n",
    "import numpy as np\n",
    "import matplotlib.pyplot as plt\n",
    "from univariate_dataviz import wordcloud_feature, density, unique_values, plot_feature\n",
    "\n",
    "# Loading data\n",
    "df = pd.read_csv('../data/3go_en.openfoodfacts.org.products.csv', delimiter='\\t', low_memory=False)\n",
    "\n",
    "# Dataset display\n",
    "print(df.head())\n",
    "\n",
    "# Testing the wordcloud_feature function\n",
    "wordcloud_feature(df, 'feature_1')\n",
    "\n",
    "# Density function test\n",
    "density(df['feature_2'], title='Density Plot', xlabel='Feature 2', ylabel='Density')\n",
    "\n",
    "# Testing the unique_values ​​function\n",
    "unique_values(df, 'feature_3')\n",
    "\n",
    "# Testing the plot_feature function\n",
    "plot_feature(df, 'feature_4', 'hist', bins=10)"
   ]
  }
 ],
 "metadata": {
  "kernelspec": {
   "display_name": "Python 3",
   "language": "python",
   "name": "python3"
  },
  "language_info": {
   "codemirror_mode": {
    "name": "ipython",
    "version": 3
   },
   "file_extension": ".py",
   "mimetype": "text/x-python",
   "name": "python",
   "nbconvert_exporter": "python",
   "pygments_lexer": "ipython3",
   "version": "3.9.7"
  },
  "orig_nbformat": 4
 },
 "nbformat": 4,
 "nbformat_minor": 2
}

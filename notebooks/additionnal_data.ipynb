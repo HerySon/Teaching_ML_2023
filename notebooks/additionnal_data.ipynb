{
 "cells": [
  {
   "attachments": {},
   "cell_type": "markdown",
   "metadata": {},
   "source": [
    "## Research additional data sources"
   ]
  },
  {
   "attachments": {},
   "cell_type": "markdown",
   "metadata": {},
   "source": [
    "## Scrapping URLs\n",
    "\n",
    "https://www.eatthismuch.com/food/browse/?q=&type=food\n",
    "A website that offers a list of over 9000 different foods, with nutritional information such as calories, macronutrients, micronutrients, etc. It also allows you to filter foods based on various criteria such as type of food, allergies, diets, etc. This site can therefore be useful for collecting food data for nutritional analysis or to complement an existing database such as the Open Food Fact dataset.\n",
    "\n",
    "https://fdc.nal.usda.gov/download-datasets.html\n",
    "USDA (United States Department of Agriculture) website that provides free downloadable datasets, including food data. This web page offers several data download options, including data on nutrition, allergens, food additives, nutrients, etc. USDA data is used for a variety of applications, including nutrition research, health policy formulation, and food product creation. Data is updated regularly and is available in multiple formats, including CSV and XML."
   ]
  },
  {
   "attachments": {},
   "cell_type": "markdown",
   "metadata": {},
   "source": [
    "## API\n",
    "https://wiki.openfoodfacts.org/API\n",
    "\n",
    "After researching the JSON API offered by Open Food Fact, it seems that its use is limited to specific cases, such as the development of a mobile application, where a request corresponds to a real user. Indeed, the API only allows one call for a single user request, and automated requests are not supported. In our case, where we want to enrich our database, Open Food Fact provides a database that is regularly updated and can be downloaded directly from their website. They don't recommend scraping the API to get the full data set."
   ]
  }
 ],
 "metadata": {
  "language_info": {
   "name": "python"
  },
  "orig_nbformat": 4
 },
 "nbformat": 4,
 "nbformat_minor": 2
}

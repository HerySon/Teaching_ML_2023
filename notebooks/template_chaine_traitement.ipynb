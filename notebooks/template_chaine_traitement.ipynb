{
 "cells": [
  {
   "attachments": {},
   "cell_type": "markdown",
   "metadata": {},
   "source": [
    "This document list the process of a treatment dataset for a ML project"
   ]
  },
  {
   "attachments": {},
   "cell_type": "markdown",
   "metadata": {},
   "source": [
    "Cleaning: \n",
    "    Duplicates and types\n",
    "    Missing value\n",
    "    Outliers\n",
    "\n",
    "Preparation steps:\n",
    "    Encoding categorial data\n",
    "    Scaling\n",
    "    Balance\n",
    "    Discretization\n",
    "\n",
    "Improve the information: \n",
    "    Features creation\n",
    "    Features selection"
   ]
  },
  {
   "attachments": {},
   "cell_type": "markdown",
   "metadata": {},
   "source": [
    "#Duplicates\n",
    "    Drop duplicates\n",
    "#Missing value\n",
    "    Identified columns with missing value, Collect the % of missing value.\n",
    "    Treate these columns\n",
    "\n",
    "#Outliers\n",
    "    Use context to determine if this is outlisers. Which product ? Which kind of features ? \n",
    "\n",
    "Input raw dataset\n",
    "Output clean dataset"
   ]
  },
  {
   "attachments": {},
   "cell_type": "markdown",
   "metadata": {},
   "source": [
    "#Encoding categorial:\n",
    "    Hashing methode to assure there is no hierarchy\n",
    "#Scaling\n",
    "    Bar plot to visualize output.\n",
    "#Normalisation\n",
    "  Bar plot to visualize output. Check the distribution.\n",
    "#Balance\n",
    "    Assure there is not unbalanced features. Use SMOTE\n",
    "#Discretization\n",
    "    K-bins discretization. In case of features engineering, improve processing performance.\n",
    "\n",
    "Input clean dataset\n",
    "Output prepared dataset"
   ]
  },
  {
   "attachments": {},
   "cell_type": "markdown",
   "metadata": {},
   "source": [
    "#Features creation\n",
    "    Feature enginnering, select linked dataset \n",
    "\n",
    "#Features selection\n",
    "    Implement method as PCA \n",
    "\n",
    "Use pipeline to deploy easly, with the same parameters "
   ]
  },
  {
   "attachments": {},
   "cell_type": "markdown",
   "metadata": {},
   "source": [
    "Analyze error:\n",
    "Use Framework to assure a responsible model"
   ]
  },
  {
   "attachments": {},
   "cell_type": "markdown",
   "metadata": {},
   "source": [
    "Model fit\n",
    "Optimize paramters \n",
    "\n",
    "Once model fit \n",
    "    iterate the preprocess list add features to improve models."
   ]
  },
  {
   "attachments": {},
   "cell_type": "markdown",
   "metadata": {},
   "source": [
    "#Cluster viz:\n",
    "    Scatter plot : show multidimensionnel sapce. Use colors to show the gap betwen each cluster.\n",
    "    Radar chart : Use mean or mediane of clusters to compare the profil between the clusters \n",
    "    Cloud word : Determine the composante of the clusters \n"
   ]
  }
 ],
 "metadata": {
  "language_info": {
   "name": "python"
  },
  "orig_nbformat": 4
 },
 "nbformat": 4,
 "nbformat_minor": 2
}
